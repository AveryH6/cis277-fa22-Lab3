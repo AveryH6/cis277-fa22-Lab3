{
  "cells": [
    {
      "cell_type": "markdown",
      "metadata": {},
      "source": [
        "# Lab 3 - Video Game Reviews"
      ]
    },
    {
      "cell_type": "code",
      "execution_count": 1,
      "metadata": {
        "id": "gIWe8vk2fPX7"
      },
      "outputs": [],
      "source": [
        "import pandas as pd"
      ]
    },
    {
      "cell_type": "markdown",
      "metadata": {
        "id": "4N0ty0ecrWcn"
      },
      "source": [
        "## Import Data"
      ]
    },
    {
      "cell_type": "code",
      "execution_count": 2,
      "metadata": {
        "id": "qY7nb0rAgWrr"
      },
      "outputs": [],
      "source": [
        "df = pd.read_csv('imdb-videogames.csv')"
      ]
    },
    {
      "cell_type": "code",
      "execution_count": 3,
      "metadata": {
        "colab": {
          "base_uri": "https://localhost:8080/",
          "height": 359
        },
        "id": "eIkZ2SBehFrY",
        "outputId": "8952e428-b938-4933-b581-9be7ddf2cdea"
      },
      "outputs": [
        {
          "data": {
            "text/html": [
              "<div>\n",
              "<style scoped>\n",
              "    .dataframe tbody tr th:only-of-type {\n",
              "        vertical-align: middle;\n",
              "    }\n",
              "\n",
              "    .dataframe tbody tr th {\n",
              "        vertical-align: top;\n",
              "    }\n",
              "\n",
              "    .dataframe thead th {\n",
              "        text-align: right;\n",
              "    }\n",
              "</style>\n",
              "<table border=\"1\" class=\"dataframe\">\n",
              "  <thead>\n",
              "    <tr style=\"text-align: right;\">\n",
              "      <th></th>\n",
              "      <th>Unnamed: 0</th>\n",
              "      <th>name</th>\n",
              "      <th>url</th>\n",
              "      <th>year</th>\n",
              "      <th>certificate</th>\n",
              "      <th>rating</th>\n",
              "      <th>votes</th>\n",
              "      <th>plot summary</th>\n",
              "      <th>Action</th>\n",
              "      <th>Adventure</th>\n",
              "      <th>Comedy</th>\n",
              "      <th>Crime</th>\n",
              "      <th>Family</th>\n",
              "      <th>Fantasy</th>\n",
              "      <th>Mystery</th>\n",
              "      <th>Sci-Fi</th>\n",
              "      <th>Thriller</th>\n",
              "    </tr>\n",
              "  </thead>\n",
              "  <tbody>\n",
              "    <tr>\n",
              "      <th>0</th>\n",
              "      <td>0</td>\n",
              "      <td>Spider-Man</td>\n",
              "      <td>https://www.imdb.com/title/tt5807780/?ref_=adv...</td>\n",
              "      <td>2018.0</td>\n",
              "      <td>T</td>\n",
              "      <td>9.2</td>\n",
              "      <td>20,759</td>\n",
              "      <td>When a new villain threatens New York City, Pe...</td>\n",
              "      <td>True</td>\n",
              "      <td>True</td>\n",
              "      <td>False</td>\n",
              "      <td>False</td>\n",
              "      <td>False</td>\n",
              "      <td>True</td>\n",
              "      <td>False</td>\n",
              "      <td>False</td>\n",
              "      <td>False</td>\n",
              "    </tr>\n",
              "    <tr>\n",
              "      <th>1</th>\n",
              "      <td>1</td>\n",
              "      <td>Red Dead Redemption II</td>\n",
              "      <td>https://www.imdb.com/title/tt6161168/?ref_=adv...</td>\n",
              "      <td>2018.0</td>\n",
              "      <td>M</td>\n",
              "      <td>9.7</td>\n",
              "      <td>35,703</td>\n",
              "      <td>Amidst the decline of the Wild West at the tur...</td>\n",
              "      <td>True</td>\n",
              "      <td>True</td>\n",
              "      <td>False</td>\n",
              "      <td>True</td>\n",
              "      <td>False</td>\n",
              "      <td>False</td>\n",
              "      <td>False</td>\n",
              "      <td>False</td>\n",
              "      <td>False</td>\n",
              "    </tr>\n",
              "    <tr>\n",
              "      <th>2</th>\n",
              "      <td>2</td>\n",
              "      <td>Grand Theft Auto V</td>\n",
              "      <td>https://www.imdb.com/title/tt2103188/?ref_=adv...</td>\n",
              "      <td>2013.0</td>\n",
              "      <td>M</td>\n",
              "      <td>9.5</td>\n",
              "      <td>59,986</td>\n",
              "      <td>Three very different criminals team up for a s...</td>\n",
              "      <td>True</td>\n",
              "      <td>False</td>\n",
              "      <td>False</td>\n",
              "      <td>True</td>\n",
              "      <td>False</td>\n",
              "      <td>False</td>\n",
              "      <td>False</td>\n",
              "      <td>False</td>\n",
              "      <td>False</td>\n",
              "    </tr>\n",
              "    <tr>\n",
              "      <th>3</th>\n",
              "      <td>3</td>\n",
              "      <td>God of War</td>\n",
              "      <td>https://www.imdb.com/title/tt5838588/?ref_=adv...</td>\n",
              "      <td>2018.0</td>\n",
              "      <td>M</td>\n",
              "      <td>9.6</td>\n",
              "      <td>26,118</td>\n",
              "      <td>After wiping out the gods of Mount Olympus, Kr...</td>\n",
              "      <td>True</td>\n",
              "      <td>True</td>\n",
              "      <td>False</td>\n",
              "      <td>False</td>\n",
              "      <td>False</td>\n",
              "      <td>False</td>\n",
              "      <td>False</td>\n",
              "      <td>False</td>\n",
              "      <td>False</td>\n",
              "    </tr>\n",
              "    <tr>\n",
              "      <th>4</th>\n",
              "      <td>4</td>\n",
              "      <td>Uncharted 4: A Thief's End</td>\n",
              "      <td>https://www.imdb.com/title/tt3334704/?ref_=adv...</td>\n",
              "      <td>2016.0</td>\n",
              "      <td>T</td>\n",
              "      <td>9.5</td>\n",
              "      <td>28,722</td>\n",
              "      <td>Thrown back into the dangerous underworld he'd...</td>\n",
              "      <td>True</td>\n",
              "      <td>True</td>\n",
              "      <td>False</td>\n",
              "      <td>False</td>\n",
              "      <td>False</td>\n",
              "      <td>False</td>\n",
              "      <td>False</td>\n",
              "      <td>False</td>\n",
              "      <td>False</td>\n",
              "    </tr>\n",
              "  </tbody>\n",
              "</table>\n",
              "</div>"
            ],
            "text/plain": [
              "   Unnamed: 0                        name  \\\n",
              "0           0                  Spider-Man   \n",
              "1           1      Red Dead Redemption II   \n",
              "2           2          Grand Theft Auto V   \n",
              "3           3                  God of War   \n",
              "4           4  Uncharted 4: A Thief's End   \n",
              "\n",
              "                                                 url    year certificate  \\\n",
              "0  https://www.imdb.com/title/tt5807780/?ref_=adv...  2018.0           T   \n",
              "1  https://www.imdb.com/title/tt6161168/?ref_=adv...  2018.0           M   \n",
              "2  https://www.imdb.com/title/tt2103188/?ref_=adv...  2013.0           M   \n",
              "3  https://www.imdb.com/title/tt5838588/?ref_=adv...  2018.0           M   \n",
              "4  https://www.imdb.com/title/tt3334704/?ref_=adv...  2016.0           T   \n",
              "\n",
              "  rating   votes                                       plot summary  Action  \\\n",
              "0    9.2  20,759  When a new villain threatens New York City, Pe...    True   \n",
              "1    9.7  35,703  Amidst the decline of the Wild West at the tur...    True   \n",
              "2    9.5  59,986  Three very different criminals team up for a s...    True   \n",
              "3    9.6  26,118  After wiping out the gods of Mount Olympus, Kr...    True   \n",
              "4    9.5  28,722  Thrown back into the dangerous underworld he'd...    True   \n",
              "\n",
              "   Adventure  Comedy  Crime  Family  Fantasy  Mystery  Sci-Fi  Thriller  \n",
              "0       True   False  False   False     True    False   False     False  \n",
              "1       True   False   True   False    False    False   False     False  \n",
              "2      False   False   True   False    False    False   False     False  \n",
              "3       True   False  False   False    False    False   False     False  \n",
              "4       True   False  False   False    False    False   False     False  "
            ]
          },
          "execution_count": 3,
          "metadata": {},
          "output_type": "execute_result"
        }
      ],
      "source": [
        "df.head()"
      ]
    },
    {
      "cell_type": "code",
      "execution_count": 4,
      "metadata": {
        "colab": {
          "base_uri": "https://localhost:8080/"
        },
        "id": "eR6x6BUwhptZ",
        "outputId": "e2b94951-3d5d-47bf-e3e4-c5c571d2d879"
      },
      "outputs": [
        {
          "data": {
            "text/plain": [
              "(20805, 17)"
            ]
          },
          "execution_count": 4,
          "metadata": {},
          "output_type": "execute_result"
        }
      ],
      "source": [
        "df.shape"
      ]
    },
    {
      "cell_type": "code",
      "execution_count": 5,
      "metadata": {
        "colab": {
          "base_uri": "https://localhost:8080/"
        },
        "id": "kx4xO7-biEGK",
        "outputId": "a5d0a366-f1eb-46e6-a56b-59699a4d9fad"
      },
      "outputs": [
        {
          "name": "stdout",
          "output_type": "stream",
          "text": [
            "<class 'pandas.core.frame.DataFrame'>\n",
            "RangeIndex: 20805 entries, 0 to 20804\n",
            "Data columns (total 17 columns):\n",
            " #   Column        Non-Null Count  Dtype  \n",
            "---  ------        --------------  -----  \n",
            " 0   Unnamed: 0    20805 non-null  int64  \n",
            " 1   name          20805 non-null  object \n",
            " 2   url           20805 non-null  object \n",
            " 3   year          20538 non-null  float64\n",
            " 4   certificate   7905 non-null   object \n",
            " 5   rating        11602 non-null  object \n",
            " 6   votes         11602 non-null  object \n",
            " 7   plot summary  20805 non-null  object \n",
            " 8   Action        20805 non-null  bool   \n",
            " 9   Adventure     20805 non-null  bool   \n",
            " 10  Comedy        20805 non-null  bool   \n",
            " 11  Crime         20805 non-null  bool   \n",
            " 12  Family        20805 non-null  bool   \n",
            " 13  Fantasy       20805 non-null  bool   \n",
            " 14  Mystery       20805 non-null  bool   \n",
            " 15  Sci-Fi        20805 non-null  bool   \n",
            " 16  Thriller      20805 non-null  bool   \n",
            "dtypes: bool(9), float64(1), int64(1), object(6)\n",
            "memory usage: 1.4+ MB\n"
          ]
        }
      ],
      "source": [
        "df.info()"
      ]
    },
    {
      "cell_type": "code",
      "execution_count": 6,
      "metadata": {},
      "outputs": [
        {
          "data": {
            "text/plain": [
              "T            2474\n",
              "E            2006\n",
              "M            1820\n",
              "E10+          814\n",
              "Unrated       241\n",
              "K-A           229\n",
              "Not Rated     184\n",
              "AO             32\n",
              "GA             26\n",
              "EC             25\n",
              "CE             13\n",
              "12              9\n",
              "PG-13           7\n",
              "MA-13           7\n",
              "Approved        4\n",
              "G               4\n",
              "MA-17           3\n",
              "PG              3\n",
              "TV-MA           2\n",
              "Passed          1\n",
              "TV-14           1\n",
              "Name: certificate, dtype: int64"
            ]
          },
          "execution_count": 6,
          "metadata": {},
          "output_type": "execute_result"
        }
      ],
      "source": [
        "df.certificate.value_counts()"
      ]
    },
    {
      "cell_type": "markdown",
      "metadata": {},
      "source": [
        "## Questions"
      ]
    },
    {
      "cell_type": "markdown",
      "metadata": {},
      "source": [
        "### 1. What is the average rating for Action games?"
      ]
    },
    {
      "cell_type": "code",
      "execution_count": 18,
      "metadata": {},
      "outputs": [
        {
          "data": {
            "text/plain": [
              "7.4    493\n",
              "7.5    470\n",
              "7.6    452\n",
              "7.2    450\n",
              "7.8    442\n",
              "      ... \n",
              "1.7      4\n",
              "1.5      3\n",
              "1.3      3\n",
              "1.4      1\n",
              "1.0      1\n",
              "Name: rating, Length: 86, dtype: int64"
            ]
          },
          "execution_count": 18,
          "metadata": {},
          "output_type": "execute_result"
        }
      ],
      "source": [
        "df.rating.value_counts()\n",
        "df.rating.replace('*9.0', 9.0, inplace=True)\n",
        "df.rating = pd.to_numeric(df.rating)\n",
        "df.rating.value_counts()"
      ]
    },
    {
      "cell_type": "code",
      "execution_count": 23,
      "metadata": {},
      "outputs": [
        {
          "data": {
            "text/plain": [
              "Action\n",
              "False    6.998812\n",
              "True     7.069257\n",
              "Name: rating, dtype: float64"
            ]
          },
          "execution_count": 23,
          "metadata": {},
          "output_type": "execute_result"
        }
      ],
      "source": [
        "df.groupby(\"Action\").rating.mean()"
      ]
    },
    {
      "cell_type": "markdown",
      "metadata": {},
      "source": [
        "### 2. What is the average rating of games after 2010? What is the average rating of games before (and including) 2010?"
      ]
    },
    {
      "cell_type": "code",
      "execution_count": 46,
      "metadata": {},
      "outputs": [
        {
          "data": {
            "text/plain": [
              "7.119838056680145"
            ]
          },
          "execution_count": 46,
          "metadata": {},
          "output_type": "execute_result"
        }
      ],
      "source": [
        "#after 2010\n",
        "ave_rate = df[ df.year > 2010 ]\n",
        "ave_rate['rating'].mean()"
      ]
    },
    {
      "cell_type": "code",
      "execution_count": 47,
      "metadata": {},
      "outputs": [
        {
          "data": {
            "text/plain": [
              "7.006822480410717"
            ]
          },
          "execution_count": 47,
          "metadata": {},
          "output_type": "execute_result"
        }
      ],
      "source": [
        "#before and including 2010\n",
        "ave_rate2 = df[ df.year <= 2010 ]\n",
        "ave_rate2['rating'].mean()"
      ]
    },
    {
      "cell_type": "markdown",
      "metadata": {},
      "source": [
        "### 3. What games include \"Fallout\" in their title?"
      ]
    },
    {
      "cell_type": "code",
      "execution_count": 41,
      "metadata": {},
      "outputs": [],
      "source": [
        "df_fallout = df[ df.name.str.contains(\"Fallout\")]\n",
        "df_fallout\n"
      ]
    },
    {
      "cell_type": "markdown",
      "metadata": {},
      "source": [
        "### 4. What is the most common certificate for Sci-Fi games? "
      ]
    },
    {
      "cell_type": "code",
      "execution_count": 49,
      "metadata": {},
      "outputs": [
        {
          "data": {
            "text/plain": [
              "Sci-Fi  certificate\n",
              "False   T              2050\n",
              "        E              1821\n",
              "        M              1481\n",
              "        E10+            720\n",
              "        Unrated         195\n",
              "        K-A             188\n",
              "        Not Rated       155\n",
              "        AO               27\n",
              "        EC               22\n",
              "        GA               21\n",
              "        CE               13\n",
              "        12                6\n",
              "        PG-13             6\n",
              "        Approved          3\n",
              "        G                 3\n",
              "        MA-13             3\n",
              "        PG                3\n",
              "        MA-17             2\n",
              "        TV-MA             2\n",
              "        Passed            1\n",
              "        TV-14             1\n",
              "True    T               424\n",
              "        M               339\n",
              "        E               185\n",
              "        E10+             94\n",
              "        Unrated          46\n",
              "        K-A              41\n",
              "        Not Rated        29\n",
              "        AO                5\n",
              "        GA                5\n",
              "        MA-13             4\n",
              "        12                3\n",
              "        EC                3\n",
              "        Approved          1\n",
              "        G                 1\n",
              "        MA-17             1\n",
              "        PG-13             1\n",
              "Name: certificate, dtype: int64"
            ]
          },
          "execution_count": 49,
          "metadata": {},
          "output_type": "execute_result"
        }
      ],
      "source": [
        "df_sci = df.groupby(\"Sci-Fi\").certificate.value_counts()\n",
        "df_sci"
      ]
    },
    {
      "cell_type": "markdown",
      "metadata": {},
      "source": [
        "### 5. What percent of Thiller games have M or AO certificate?"
      ]
    },
    {
      "cell_type": "code",
      "execution_count": null,
      "metadata": {},
      "outputs": [],
      "source": []
    },
    {
      "cell_type": "markdown",
      "metadata": {},
      "source": [
        "### 6. What is the mean and median rating for Family games? for Action games?"
      ]
    },
    {
      "cell_type": "code",
      "execution_count": 57,
      "metadata": {},
      "outputs": [
        {
          "name": "stderr",
          "output_type": "stream",
          "text": [
            "/var/folders/m4/jcwdm7kx3c9_2gv6d_kyhps00000gn/T/ipykernel_4484/1139012520.py:1: FutureWarning: ['name', 'url', 'certificate', 'votes', 'plot summary'] did not aggregate successfully. If any error is raised this will raise in a future version of pandas. Drop these columns/ops to avoid this warning.\n",
            "  df.groupby(\"Family\").agg(['mean', 'median'])\n"
          ]
        },
        {
          "data": {
            "text/html": [
              "<div>\n",
              "<style scoped>\n",
              "    .dataframe tbody tr th:only-of-type {\n",
              "        vertical-align: middle;\n",
              "    }\n",
              "\n",
              "    .dataframe tbody tr th {\n",
              "        vertical-align: top;\n",
              "    }\n",
              "\n",
              "    .dataframe thead tr th {\n",
              "        text-align: left;\n",
              "    }\n",
              "\n",
              "    .dataframe thead tr:last-of-type th {\n",
              "        text-align: right;\n",
              "    }\n",
              "</style>\n",
              "<table border=\"1\" class=\"dataframe\">\n",
              "  <thead>\n",
              "    <tr>\n",
              "      <th></th>\n",
              "      <th colspan=\"2\" halign=\"left\">Unnamed: 0</th>\n",
              "      <th colspan=\"2\" halign=\"left\">year</th>\n",
              "      <th colspan=\"2\" halign=\"left\">rating</th>\n",
              "      <th colspan=\"2\" halign=\"left\">Action</th>\n",
              "      <th colspan=\"2\" halign=\"left\">Adventure</th>\n",
              "      <th>...</th>\n",
              "      <th colspan=\"2\" halign=\"left\">Crime</th>\n",
              "      <th colspan=\"2\" halign=\"left\">Fantasy</th>\n",
              "      <th colspan=\"2\" halign=\"left\">Mystery</th>\n",
              "      <th colspan=\"2\" halign=\"left\">Sci-Fi</th>\n",
              "      <th colspan=\"2\" halign=\"left\">Thriller</th>\n",
              "    </tr>\n",
              "    <tr>\n",
              "      <th></th>\n",
              "      <th>mean</th>\n",
              "      <th>median</th>\n",
              "      <th>mean</th>\n",
              "      <th>median</th>\n",
              "      <th>mean</th>\n",
              "      <th>median</th>\n",
              "      <th>mean</th>\n",
              "      <th>median</th>\n",
              "      <th>mean</th>\n",
              "      <th>median</th>\n",
              "      <th>...</th>\n",
              "      <th>mean</th>\n",
              "      <th>median</th>\n",
              "      <th>mean</th>\n",
              "      <th>median</th>\n",
              "      <th>mean</th>\n",
              "      <th>median</th>\n",
              "      <th>mean</th>\n",
              "      <th>median</th>\n",
              "      <th>mean</th>\n",
              "      <th>median</th>\n",
              "    </tr>\n",
              "    <tr>\n",
              "      <th>Family</th>\n",
              "      <th></th>\n",
              "      <th></th>\n",
              "      <th></th>\n",
              "      <th></th>\n",
              "      <th></th>\n",
              "      <th></th>\n",
              "      <th></th>\n",
              "      <th></th>\n",
              "      <th></th>\n",
              "      <th></th>\n",
              "      <th></th>\n",
              "      <th></th>\n",
              "      <th></th>\n",
              "      <th></th>\n",
              "      <th></th>\n",
              "      <th></th>\n",
              "      <th></th>\n",
              "      <th></th>\n",
              "      <th></th>\n",
              "      <th></th>\n",
              "      <th></th>\n",
              "    </tr>\n",
              "  </thead>\n",
              "  <tbody>\n",
              "    <tr>\n",
              "      <th>False</th>\n",
              "      <td>9983.159955</td>\n",
              "      <td>9650.5</td>\n",
              "      <td>2006.587557</td>\n",
              "      <td>2009.0</td>\n",
              "      <td>7.104427</td>\n",
              "      <td>7.3</td>\n",
              "      <td>0.616509</td>\n",
              "      <td>1.0</td>\n",
              "      <td>0.522588</td>\n",
              "      <td>1.0</td>\n",
              "      <td>...</td>\n",
              "      <td>0.048968</td>\n",
              "      <td>0.0</td>\n",
              "      <td>0.225488</td>\n",
              "      <td>0.0</td>\n",
              "      <td>0.064752</td>\n",
              "      <td>0.0</td>\n",
              "      <td>0.195371</td>\n",
              "      <td>0.0</td>\n",
              "      <td>0.028946</td>\n",
              "      <td>0.0</td>\n",
              "    </tr>\n",
              "    <tr>\n",
              "      <th>True</th>\n",
              "      <td>13000.114435</td>\n",
              "      <td>16326.0</td>\n",
              "      <td>1999.257173</td>\n",
              "      <td>2000.0</td>\n",
              "      <td>6.686450</td>\n",
              "      <td>6.9</td>\n",
              "      <td>0.305391</td>\n",
              "      <td>0.0</td>\n",
              "      <td>0.336000</td>\n",
              "      <td>0.0</td>\n",
              "      <td>...</td>\n",
              "      <td>0.005913</td>\n",
              "      <td>0.0</td>\n",
              "      <td>0.106783</td>\n",
              "      <td>0.0</td>\n",
              "      <td>0.008348</td>\n",
              "      <td>0.0</td>\n",
              "      <td>0.030261</td>\n",
              "      <td>0.0</td>\n",
              "      <td>0.001391</td>\n",
              "      <td>0.0</td>\n",
              "    </tr>\n",
              "  </tbody>\n",
              "</table>\n",
              "<p>2 rows × 22 columns</p>\n",
              "</div>"
            ],
            "text/plain": [
              "          Unnamed: 0                  year            rating           Action  \\\n",
              "                mean   median         mean  median      mean median      mean   \n",
              "Family                                                                          \n",
              "False    9983.159955   9650.5  2006.587557  2009.0  7.104427    7.3  0.616509   \n",
              "True    13000.114435  16326.0  1999.257173  2000.0  6.686450    6.9  0.305391   \n",
              "\n",
              "              Adventure         ...     Crime          Fantasy         \\\n",
              "       median      mean median  ...      mean median      mean median   \n",
              "Family                          ...                                     \n",
              "False     1.0  0.522588    1.0  ...  0.048968    0.0  0.225488    0.0   \n",
              "True      0.0  0.336000    0.0  ...  0.005913    0.0  0.106783    0.0   \n",
              "\n",
              "         Mystery           Sci-Fi         Thriller         \n",
              "            mean median      mean median      mean median  \n",
              "Family                                                     \n",
              "False   0.064752    0.0  0.195371    0.0  0.028946    0.0  \n",
              "True    0.008348    0.0  0.030261    0.0  0.001391    0.0  \n",
              "\n",
              "[2 rows x 22 columns]"
            ]
          },
          "execution_count": 57,
          "metadata": {},
          "output_type": "execute_result"
        }
      ],
      "source": [
        "df.groupby(\"Family\").agg(['mean', 'median'])"
      ]
    },
    {
      "cell_type": "markdown",
      "metadata": {},
      "source": [
        "### 7. Which game from 2018 got the most votes? "
      ]
    },
    {
      "cell_type": "code",
      "execution_count": 44,
      "metadata": {},
      "outputs": [
        {
          "data": {
            "text/plain": [
              "7        318\n",
              "9        295\n",
              "8        294\n",
              "10       287\n",
              "12       259\n",
              "        ... \n",
              "2,325      1\n",
              "5,028      1\n",
              "948        1\n",
              "1,253      1\n",
              "3,025      1\n",
              "Name: votes, Length: 1905, dtype: int64"
            ]
          },
          "execution_count": 44,
          "metadata": {},
          "output_type": "execute_result"
        }
      ],
      "source": []
    },
    {
      "cell_type": "markdown",
      "metadata": {},
      "source": [
        "### 8. What is the average rating for each genre (Action, Adventure, Comedy, Crime, Family, Fantasy, Mystery, Sci-Fi, and Thriller)?"
      ]
    },
    {
      "cell_type": "code",
      "execution_count": 53,
      "metadata": {},
      "outputs": [
        {
          "name": "stderr",
          "output_type": "stream",
          "text": [
            "/var/folders/m4/jcwdm7kx3c9_2gv6d_kyhps00000gn/T/ipykernel_4484/479238207.py:1: FutureWarning: The `squeeze` parameter is deprecated and will be removed in a future version.\n",
            "  df.groupby(\"Action\", \"Adventure\", \"Comedy\", \"Crime\", \"Family\", \"Fantasy\", \"Mystery\", \"Sci-Fi\", \"Thriller\").rating.mean()\n"
          ]
        },
        {
          "ename": "ValueError",
          "evalue": "No axis named Adventure for object type DataFrame",
          "output_type": "error",
          "traceback": [
            "\u001b[0;31m---------------------------------------------------------------------------\u001b[0m",
            "\u001b[0;31mKeyError\u001b[0m                                  Traceback (most recent call last)",
            "File \u001b[0;32m~/opt/anaconda3/lib/python3.9/site-packages/pandas/core/generic.py:550\u001b[0m, in \u001b[0;36mNDFrame._get_axis_number\u001b[0;34m(cls, axis)\u001b[0m\n\u001b[1;32m    549\u001b[0m \u001b[39mtry\u001b[39;00m:\n\u001b[0;32m--> 550\u001b[0m     \u001b[39mreturn\u001b[39;00m \u001b[39mcls\u001b[39;49m\u001b[39m.\u001b[39;49m_AXIS_TO_AXIS_NUMBER[axis]\n\u001b[1;32m    551\u001b[0m \u001b[39mexcept\u001b[39;00m \u001b[39mKeyError\u001b[39;00m:\n",
            "\u001b[0;31mKeyError\u001b[0m: 'Adventure'",
            "\nDuring handling of the above exception, another exception occurred:\n",
            "\u001b[0;31mValueError\u001b[0m                                Traceback (most recent call last)",
            "\u001b[1;32m/Users/averyharris/Documents/GitHub/cis277-fa22-Lab3/Lab3.ipynb Cell 27\u001b[0m in \u001b[0;36m<cell line: 1>\u001b[0;34m()\u001b[0m\n\u001b[0;32m----> <a href='vscode-notebook-cell:/Users/averyharris/Documents/GitHub/cis277-fa22-Lab3/Lab3.ipynb#X33sZmlsZQ%3D%3D?line=0'>1</a>\u001b[0m df\u001b[39m.\u001b[39;49mgroupby(\u001b[39m\"\u001b[39;49m\u001b[39mAction\u001b[39;49m\u001b[39m\"\u001b[39;49m, \u001b[39m\"\u001b[39;49m\u001b[39mAdventure\u001b[39;49m\u001b[39m\"\u001b[39;49m, \u001b[39m\"\u001b[39;49m\u001b[39mComedy\u001b[39;49m\u001b[39m\"\u001b[39;49m, \u001b[39m\"\u001b[39;49m\u001b[39mCrime\u001b[39;49m\u001b[39m\"\u001b[39;49m, \u001b[39m\"\u001b[39;49m\u001b[39mFamily\u001b[39;49m\u001b[39m\"\u001b[39;49m, \u001b[39m\"\u001b[39;49m\u001b[39mFantasy\u001b[39;49m\u001b[39m\"\u001b[39;49m, \u001b[39m\"\u001b[39;49m\u001b[39mMystery\u001b[39;49m\u001b[39m\"\u001b[39;49m, \u001b[39m\"\u001b[39;49m\u001b[39mSci-Fi\u001b[39;49m\u001b[39m\"\u001b[39;49m, \u001b[39m\"\u001b[39;49m\u001b[39mThriller\u001b[39;49m\u001b[39m\"\u001b[39;49m)\u001b[39m.\u001b[39mrating\u001b[39m.\u001b[39mmean()\n",
            "File \u001b[0;32m~/opt/anaconda3/lib/python3.9/site-packages/pandas/core/frame.py:7707\u001b[0m, in \u001b[0;36mDataFrame.groupby\u001b[0;34m(self, by, axis, level, as_index, sort, group_keys, squeeze, observed, dropna)\u001b[0m\n\u001b[1;32m   7705\u001b[0m \u001b[39mif\u001b[39;00m level \u001b[39mis\u001b[39;00m \u001b[39mNone\u001b[39;00m \u001b[39mand\u001b[39;00m by \u001b[39mis\u001b[39;00m \u001b[39mNone\u001b[39;00m:\n\u001b[1;32m   7706\u001b[0m     \u001b[39mraise\u001b[39;00m \u001b[39mTypeError\u001b[39;00m(\u001b[39m\"\u001b[39m\u001b[39mYou have to supply one of \u001b[39m\u001b[39m'\u001b[39m\u001b[39mby\u001b[39m\u001b[39m'\u001b[39m\u001b[39m and \u001b[39m\u001b[39m'\u001b[39m\u001b[39mlevel\u001b[39m\u001b[39m'\u001b[39m\u001b[39m\"\u001b[39m)\n\u001b[0;32m-> 7707\u001b[0m axis \u001b[39m=\u001b[39m \u001b[39mself\u001b[39;49m\u001b[39m.\u001b[39;49m_get_axis_number(axis)\n\u001b[1;32m   7709\u001b[0m \u001b[39m# https://github.com/python/mypy/issues/7642\u001b[39;00m\n\u001b[1;32m   7710\u001b[0m \u001b[39m# error: Argument \"squeeze\" to \"DataFrameGroupBy\" has incompatible type\u001b[39;00m\n\u001b[1;32m   7711\u001b[0m \u001b[39m# \"Union[bool, NoDefault]\"; expected \"bool\"\u001b[39;00m\n\u001b[1;32m   7712\u001b[0m \u001b[39mreturn\u001b[39;00m DataFrameGroupBy(\n\u001b[1;32m   7713\u001b[0m     obj\u001b[39m=\u001b[39m\u001b[39mself\u001b[39m,\n\u001b[1;32m   7714\u001b[0m     keys\u001b[39m=\u001b[39mby,\n\u001b[0;32m   (...)\u001b[0m\n\u001b[1;32m   7722\u001b[0m     dropna\u001b[39m=\u001b[39mdropna,\n\u001b[1;32m   7723\u001b[0m )\n",
            "File \u001b[0;32m~/opt/anaconda3/lib/python3.9/site-packages/pandas/core/generic.py:552\u001b[0m, in \u001b[0;36mNDFrame._get_axis_number\u001b[0;34m(cls, axis)\u001b[0m\n\u001b[1;32m    550\u001b[0m     \u001b[39mreturn\u001b[39;00m \u001b[39mcls\u001b[39m\u001b[39m.\u001b[39m_AXIS_TO_AXIS_NUMBER[axis]\n\u001b[1;32m    551\u001b[0m \u001b[39mexcept\u001b[39;00m \u001b[39mKeyError\u001b[39;00m:\n\u001b[0;32m--> 552\u001b[0m     \u001b[39mraise\u001b[39;00m \u001b[39mValueError\u001b[39;00m(\u001b[39mf\u001b[39m\u001b[39m\"\u001b[39m\u001b[39mNo axis named \u001b[39m\u001b[39m{\u001b[39;00maxis\u001b[39m}\u001b[39;00m\u001b[39m for object type \u001b[39m\u001b[39m{\u001b[39;00m\u001b[39mcls\u001b[39m\u001b[39m.\u001b[39m\u001b[39m__name__\u001b[39m\u001b[39m}\u001b[39;00m\u001b[39m\"\u001b[39m)\n",
            "\u001b[0;31mValueError\u001b[0m: No axis named Adventure for object type DataFrame"
          ]
        }
      ],
      "source": [
        "df.groupby(\"Action\", \"Adventure\", \"Comedy\", \"Crime\", \"Family\", \"Fantasy\", \"Mystery\", \"Sci-Fi\", \"Thriller\").rating.mean()"
      ]
    },
    {
      "cell_type": "markdown",
      "metadata": {},
      "source": [
        "### 9. Which year's games received the most votes?"
      ]
    },
    {
      "cell_type": "code",
      "execution_count": null,
      "metadata": {},
      "outputs": [],
      "source": []
    },
    {
      "cell_type": "markdown",
      "metadata": {},
      "source": [
        "### 10. What's the average number of votes for games that are not Action games?"
      ]
    },
    {
      "cell_type": "code",
      "execution_count": 61,
      "metadata": {},
      "outputs": [
        {
          "data": {
            "text/html": [
              "<div>\n",
              "<style scoped>\n",
              "    .dataframe tbody tr th:only-of-type {\n",
              "        vertical-align: middle;\n",
              "    }\n",
              "\n",
              "    .dataframe tbody tr th {\n",
              "        vertical-align: top;\n",
              "    }\n",
              "\n",
              "    .dataframe thead th {\n",
              "        text-align: right;\n",
              "    }\n",
              "</style>\n",
              "<table border=\"1\" class=\"dataframe\">\n",
              "  <thead>\n",
              "    <tr style=\"text-align: right;\">\n",
              "      <th></th>\n",
              "      <th>Unnamed: 0</th>\n",
              "      <th>name</th>\n",
              "      <th>url</th>\n",
              "      <th>year</th>\n",
              "      <th>certificate</th>\n",
              "      <th>rating</th>\n",
              "      <th>votes</th>\n",
              "      <th>plot summary</th>\n",
              "      <th>Action</th>\n",
              "      <th>Adventure</th>\n",
              "      <th>Comedy</th>\n",
              "      <th>Crime</th>\n",
              "      <th>Family</th>\n",
              "      <th>Fantasy</th>\n",
              "      <th>Mystery</th>\n",
              "      <th>Sci-Fi</th>\n",
              "      <th>Thriller</th>\n",
              "    </tr>\n",
              "  </thead>\n",
              "  <tbody>\n",
              "    <tr>\n",
              "      <th>10014</th>\n",
              "      <td>10012</td>\n",
              "      <td>Stray</td>\n",
              "      <td>https://www.imdb.com/title/tt12497220/?ref_=ad...</td>\n",
              "      <td>2022.0</td>\n",
              "      <td>E10+</td>\n",
              "      <td>8.6</td>\n",
              "      <td>1,378</td>\n",
              "      <td>Lost and separated from family, a stray cat mu...</td>\n",
              "      <td>False</td>\n",
              "      <td>True</td>\n",
              "      <td>False</td>\n",
              "      <td>False</td>\n",
              "      <td>False</td>\n",
              "      <td>False</td>\n",
              "      <td>False</td>\n",
              "      <td>True</td>\n",
              "      <td>False</td>\n",
              "    </tr>\n",
              "    <tr>\n",
              "      <th>10019</th>\n",
              "      <td>10017</td>\n",
              "      <td>It Takes Two</td>\n",
              "      <td>https://www.imdb.com/title/tt14321832/?ref_=ad...</td>\n",
              "      <td>2021.0</td>\n",
              "      <td>T</td>\n",
              "      <td>9.2</td>\n",
              "      <td>2,180</td>\n",
              "      <td>Embark on the craziest journey of your life in...</td>\n",
              "      <td>False</td>\n",
              "      <td>True</td>\n",
              "      <td>True</td>\n",
              "      <td>False</td>\n",
              "      <td>False</td>\n",
              "      <td>False</td>\n",
              "      <td>False</td>\n",
              "      <td>False</td>\n",
              "      <td>False</td>\n",
              "    </tr>\n",
              "    <tr>\n",
              "      <th>10020</th>\n",
              "      <td>10018</td>\n",
              "      <td>The Dark Pictures: Man of Medan</td>\n",
              "      <td>https://www.imdb.com/title/tt8876446/?ref_=adv...</td>\n",
              "      <td>2019.0</td>\n",
              "      <td>M</td>\n",
              "      <td>6.7</td>\n",
              "      <td>2,440</td>\n",
              "      <td>Four friends and their captain set sail on a h...</td>\n",
              "      <td>False</td>\n",
              "      <td>True</td>\n",
              "      <td>False</td>\n",
              "      <td>False</td>\n",
              "      <td>False</td>\n",
              "      <td>False</td>\n",
              "      <td>True</td>\n",
              "      <td>False</td>\n",
              "      <td>False</td>\n",
              "    </tr>\n",
              "    <tr>\n",
              "      <th>10025</th>\n",
              "      <td>10023</td>\n",
              "      <td>Portal 2</td>\n",
              "      <td>https://www.imdb.com/title/tt1648163/?ref_=adv...</td>\n",
              "      <td>2011.0</td>\n",
              "      <td>E10+</td>\n",
              "      <td>9.4</td>\n",
              "      <td>15,609</td>\n",
              "      <td>Many years after \"Portal,\" Chell reawakens at ...</td>\n",
              "      <td>False</td>\n",
              "      <td>True</td>\n",
              "      <td>True</td>\n",
              "      <td>False</td>\n",
              "      <td>False</td>\n",
              "      <td>False</td>\n",
              "      <td>False</td>\n",
              "      <td>True</td>\n",
              "      <td>False</td>\n",
              "    </tr>\n",
              "    <tr>\n",
              "      <th>10029</th>\n",
              "      <td>10027</td>\n",
              "      <td>A Plague Tale: Innocence</td>\n",
              "      <td>https://www.imdb.com/title/tt7028648/?ref_=adv...</td>\n",
              "      <td>2019.0</td>\n",
              "      <td>M</td>\n",
              "      <td>8.3</td>\n",
              "      <td>3,100</td>\n",
              "      <td>14th century France, Amicia and her little bro...</td>\n",
              "      <td>False</td>\n",
              "      <td>True</td>\n",
              "      <td>False</td>\n",
              "      <td>False</td>\n",
              "      <td>False</td>\n",
              "      <td>False</td>\n",
              "      <td>False</td>\n",
              "      <td>False</td>\n",
              "      <td>False</td>\n",
              "    </tr>\n",
              "    <tr>\n",
              "      <th>...</th>\n",
              "      <td>...</td>\n",
              "      <td>...</td>\n",
              "      <td>...</td>\n",
              "      <td>...</td>\n",
              "      <td>...</td>\n",
              "      <td>...</td>\n",
              "      <td>...</td>\n",
              "      <td>...</td>\n",
              "      <td>...</td>\n",
              "      <td>...</td>\n",
              "      <td>...</td>\n",
              "      <td>...</td>\n",
              "      <td>...</td>\n",
              "      <td>...</td>\n",
              "      <td>...</td>\n",
              "      <td>...</td>\n",
              "      <td>...</td>\n",
              "    </tr>\n",
              "    <tr>\n",
              "      <th>20800</th>\n",
              "      <td>20798</td>\n",
              "      <td>Enjoy Your Power, Enjoy Your Choice</td>\n",
              "      <td>https://www.imdb.com/title/tt3845606/?ref_=adv...</td>\n",
              "      <td>2014.0</td>\n",
              "      <td>NaN</td>\n",
              "      <td>NaN</td>\n",
              "      <td>NaN</td>\n",
              "      <td>Add a Plot</td>\n",
              "      <td>False</td>\n",
              "      <td>False</td>\n",
              "      <td>False</td>\n",
              "      <td>False</td>\n",
              "      <td>False</td>\n",
              "      <td>False</td>\n",
              "      <td>False</td>\n",
              "      <td>False</td>\n",
              "      <td>True</td>\n",
              "    </tr>\n",
              "    <tr>\n",
              "      <th>20801</th>\n",
              "      <td>20799</td>\n",
              "      <td>RedSun2020</td>\n",
              "      <td>https://www.imdb.com/title/tt0790739/?ref_=adv...</td>\n",
              "      <td>2004.0</td>\n",
              "      <td>NaN</td>\n",
              "      <td>NaN</td>\n",
              "      <td>NaN</td>\n",
              "      <td>Joseph gets kidnapped and it's the player's jo...</td>\n",
              "      <td>False</td>\n",
              "      <td>False</td>\n",
              "      <td>False</td>\n",
              "      <td>False</td>\n",
              "      <td>False</td>\n",
              "      <td>False</td>\n",
              "      <td>False</td>\n",
              "      <td>False</td>\n",
              "      <td>True</td>\n",
              "    </tr>\n",
              "    <tr>\n",
              "      <th>20802</th>\n",
              "      <td>20800</td>\n",
              "      <td>Shutter</td>\n",
              "      <td>https://www.imdb.com/title/tt5119948/?ref_=adv...</td>\n",
              "      <td>2015.0</td>\n",
              "      <td>NaN</td>\n",
              "      <td>NaN</td>\n",
              "      <td>NaN</td>\n",
              "      <td>A tech support man who uses a drone to investi...</td>\n",
              "      <td>False</td>\n",
              "      <td>False</td>\n",
              "      <td>False</td>\n",
              "      <td>False</td>\n",
              "      <td>False</td>\n",
              "      <td>False</td>\n",
              "      <td>False</td>\n",
              "      <td>False</td>\n",
              "      <td>True</td>\n",
              "    </tr>\n",
              "    <tr>\n",
              "      <th>20803</th>\n",
              "      <td>20801</td>\n",
              "      <td>The Music Machine</td>\n",
              "      <td>https://www.imdb.com/title/tt5142082/?ref_=adv...</td>\n",
              "      <td>2015.0</td>\n",
              "      <td>NaN</td>\n",
              "      <td>NaN</td>\n",
              "      <td>NaN</td>\n",
              "      <td>A young teenage girl and the ghost of a dead m...</td>\n",
              "      <td>False</td>\n",
              "      <td>False</td>\n",
              "      <td>False</td>\n",
              "      <td>False</td>\n",
              "      <td>False</td>\n",
              "      <td>False</td>\n",
              "      <td>False</td>\n",
              "      <td>False</td>\n",
              "      <td>True</td>\n",
              "    </tr>\n",
              "    <tr>\n",
              "      <th>20804</th>\n",
              "      <td>20802</td>\n",
              "      <td>Cryptic</td>\n",
              "      <td>https://www.imdb.com/title/tt10964974/?ref_=ad...</td>\n",
              "      <td>2020.0</td>\n",
              "      <td>NaN</td>\n",
              "      <td>NaN</td>\n",
              "      <td>NaN</td>\n",
              "      <td>Kidnapped by an insane man and dragged into a ...</td>\n",
              "      <td>False</td>\n",
              "      <td>False</td>\n",
              "      <td>False</td>\n",
              "      <td>False</td>\n",
              "      <td>False</td>\n",
              "      <td>False</td>\n",
              "      <td>False</td>\n",
              "      <td>False</td>\n",
              "      <td>True</td>\n",
              "    </tr>\n",
              "  </tbody>\n",
              "</table>\n",
              "<p>8873 rows × 17 columns</p>\n",
              "</div>"
            ],
            "text/plain": [
              "       Unnamed: 0                                 name  \\\n",
              "10014       10012                                Stray   \n",
              "10019       10017                         It Takes Two   \n",
              "10020       10018      The Dark Pictures: Man of Medan   \n",
              "10025       10023                             Portal 2   \n",
              "10029       10027             A Plague Tale: Innocence   \n",
              "...           ...                                  ...   \n",
              "20800       20798  Enjoy Your Power, Enjoy Your Choice   \n",
              "20801       20799                           RedSun2020   \n",
              "20802       20800                              Shutter   \n",
              "20803       20801                    The Music Machine   \n",
              "20804       20802                              Cryptic   \n",
              "\n",
              "                                                     url    year certificate  \\\n",
              "10014  https://www.imdb.com/title/tt12497220/?ref_=ad...  2022.0        E10+   \n",
              "10019  https://www.imdb.com/title/tt14321832/?ref_=ad...  2021.0           T   \n",
              "10020  https://www.imdb.com/title/tt8876446/?ref_=adv...  2019.0           M   \n",
              "10025  https://www.imdb.com/title/tt1648163/?ref_=adv...  2011.0        E10+   \n",
              "10029  https://www.imdb.com/title/tt7028648/?ref_=adv...  2019.0           M   \n",
              "...                                                  ...     ...         ...   \n",
              "20800  https://www.imdb.com/title/tt3845606/?ref_=adv...  2014.0         NaN   \n",
              "20801  https://www.imdb.com/title/tt0790739/?ref_=adv...  2004.0         NaN   \n",
              "20802  https://www.imdb.com/title/tt5119948/?ref_=adv...  2015.0         NaN   \n",
              "20803  https://www.imdb.com/title/tt5142082/?ref_=adv...  2015.0         NaN   \n",
              "20804  https://www.imdb.com/title/tt10964974/?ref_=ad...  2020.0         NaN   \n",
              "\n",
              "       rating   votes                                       plot summary  \\\n",
              "10014     8.6   1,378  Lost and separated from family, a stray cat mu...   \n",
              "10019     9.2   2,180  Embark on the craziest journey of your life in...   \n",
              "10020     6.7   2,440  Four friends and their captain set sail on a h...   \n",
              "10025     9.4  15,609  Many years after \"Portal,\" Chell reawakens at ...   \n",
              "10029     8.3   3,100  14th century France, Amicia and her little bro...   \n",
              "...       ...     ...                                                ...   \n",
              "20800     NaN     NaN                                         Add a Plot   \n",
              "20801     NaN     NaN  Joseph gets kidnapped and it's the player's jo...   \n",
              "20802     NaN     NaN  A tech support man who uses a drone to investi...   \n",
              "20803     NaN     NaN  A young teenage girl and the ghost of a dead m...   \n",
              "20804     NaN     NaN  Kidnapped by an insane man and dragged into a ...   \n",
              "\n",
              "       Action  Adventure  Comedy  Crime  Family  Fantasy  Mystery  Sci-Fi  \\\n",
              "10014   False       True   False  False   False    False    False    True   \n",
              "10019   False       True    True  False   False    False    False   False   \n",
              "10020   False       True   False  False   False    False     True   False   \n",
              "10025   False       True    True  False   False    False    False    True   \n",
              "10029   False       True   False  False   False    False    False   False   \n",
              "...       ...        ...     ...    ...     ...      ...      ...     ...   \n",
              "20800   False      False   False  False   False    False    False   False   \n",
              "20801   False      False   False  False   False    False    False   False   \n",
              "20802   False      False   False  False   False    False    False   False   \n",
              "20803   False      False   False  False   False    False    False   False   \n",
              "20804   False      False   False  False   False    False    False   False   \n",
              "\n",
              "       Thriller  \n",
              "10014     False  \n",
              "10019     False  \n",
              "10020     False  \n",
              "10025     False  \n",
              "10029     False  \n",
              "...         ...  \n",
              "20800      True  \n",
              "20801      True  \n",
              "20802      True  \n",
              "20803      True  \n",
              "20804      True  \n",
              "\n",
              "[8873 rows x 17 columns]"
            ]
          },
          "execution_count": 61,
          "metadata": {},
          "output_type": "execute_result"
        }
      ],
      "source": [
        "df[ df.Action == False ]"
      ]
    },
    {
      "cell_type": "markdown",
      "metadata": {},
      "source": [
        "### 11. What game are platformers?"
      ]
    },
    {
      "cell_type": "code",
      "execution_count": null,
      "metadata": {},
      "outputs": [],
      "source": []
    }
  ],
  "metadata": {
    "colab": {
      "authorship_tag": "ABX9TyPG+ssWMxKywRQDkeiR9E1U",
      "include_colab_link": true,
      "mount_file_id": "1V16IS1TA0CmRy78Zy03QMP9hHtjmYEcW",
      "name": "EDA_10Steps.ipynb",
      "provenance": []
    },
    "kernelspec": {
      "display_name": "Python 3.9.12 ('base')",
      "language": "python",
      "name": "python3"
    },
    "language_info": {
      "codemirror_mode": {
        "name": "ipython",
        "version": 3
      },
      "file_extension": ".py",
      "mimetype": "text/x-python",
      "name": "python",
      "nbconvert_exporter": "python",
      "pygments_lexer": "ipython3",
      "version": "3.9.12"
    },
    "vscode": {
      "interpreter": {
        "hash": "584887bf406a569d2f596ef98099ec06ee5378c6fabdffb8a18b5e468f597304"
      }
    }
  },
  "nbformat": 4,
  "nbformat_minor": 0
}
